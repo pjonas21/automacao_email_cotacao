{
 "cells": [
  {
   "attachments": {},
   "cell_type": "markdown",
   "metadata": {},
   "source": [
    "# Instalar e importar biblioteca"
   ]
  },
  {
   "cell_type": "code",
   "execution_count": 1,
   "metadata": {},
   "outputs": [],
   "source": [
    "from yfinance import Ticker"
   ]
  },
  {
   "attachments": {},
   "cell_type": "markdown",
   "metadata": {},
   "source": [
    "## Pegar dados de ação, baseada no código passado"
   ]
  },
  {
   "cell_type": "code",
   "execution_count": 3,
   "metadata": {},
   "outputs": [
    {
     "data": {
      "text/plain": [
       "yfinance.Ticker object <PETR4.SA>"
      ]
     },
     "execution_count": 3,
     "metadata": {},
     "output_type": "execute_result"
    }
   ],
   "source": [
    "ticker = \"petr4.sa\" #input(\"Informe o códifo da ação desejada: \")\n",
    "dados = Ticker(ticker)\n",
    "dados"
   ]
  },
  {
   "cell_type": "code",
   "execution_count": 4,
   "metadata": {},
   "outputs": [
    {
     "data": {
      "text/html": [
       "<div>\n",
       "<style scoped>\n",
       "    .dataframe tbody tr th:only-of-type {\n",
       "        vertical-align: middle;\n",
       "    }\n",
       "\n",
       "    .dataframe tbody tr th {\n",
       "        vertical-align: top;\n",
       "    }\n",
       "\n",
       "    .dataframe thead th {\n",
       "        text-align: right;\n",
       "    }\n",
       "</style>\n",
       "<table border=\"1\" class=\"dataframe\">\n",
       "  <thead>\n",
       "    <tr style=\"text-align: right;\">\n",
       "      <th></th>\n",
       "      <th>Open</th>\n",
       "      <th>High</th>\n",
       "      <th>Low</th>\n",
       "      <th>Close</th>\n",
       "      <th>Volume</th>\n",
       "      <th>Dividends</th>\n",
       "      <th>Stock Splits</th>\n",
       "    </tr>\n",
       "    <tr>\n",
       "      <th>Date</th>\n",
       "      <th></th>\n",
       "      <th></th>\n",
       "      <th></th>\n",
       "      <th></th>\n",
       "      <th></th>\n",
       "      <th></th>\n",
       "      <th></th>\n",
       "    </tr>\n",
       "  </thead>\n",
       "  <tbody>\n",
       "    <tr>\n",
       "      <th>2022-12-01 00:00:00-03:00</th>\n",
       "      <td>23.656716</td>\n",
       "      <td>23.843621</td>\n",
       "      <td>22.748895</td>\n",
       "      <td>22.775597</td>\n",
       "      <td>71259400</td>\n",
       "      <td>0.0</td>\n",
       "      <td>0.0</td>\n",
       "    </tr>\n",
       "    <tr>\n",
       "      <th>2022-12-02 00:00:00-03:00</th>\n",
       "      <td>22.864600</td>\n",
       "      <td>23.541015</td>\n",
       "      <td>22.526392</td>\n",
       "      <td>23.060404</td>\n",
       "      <td>66301000</td>\n",
       "      <td>0.0</td>\n",
       "      <td>0.0</td>\n",
       "    </tr>\n",
       "    <tr>\n",
       "      <th>2022-12-05 00:00:00-03:00</th>\n",
       "      <td>23.140504</td>\n",
       "      <td>23.656715</td>\n",
       "      <td>22.739995</td>\n",
       "      <td>22.802298</td>\n",
       "      <td>56065400</td>\n",
       "      <td>0.0</td>\n",
       "      <td>0.0</td>\n",
       "    </tr>\n",
       "    <tr>\n",
       "      <th>2022-12-06 00:00:00-03:00</th>\n",
       "      <td>22.980301</td>\n",
       "      <td>23.487612</td>\n",
       "      <td>22.624293</td>\n",
       "      <td>22.820097</td>\n",
       "      <td>74991200</td>\n",
       "      <td>0.0</td>\n",
       "      <td>0.0</td>\n",
       "    </tr>\n",
       "    <tr>\n",
       "      <th>2022-12-07 00:00:00-03:00</th>\n",
       "      <td>22.553092</td>\n",
       "      <td>23.202806</td>\n",
       "      <td>22.490791</td>\n",
       "      <td>22.561993</td>\n",
       "      <td>57008400</td>\n",
       "      <td>0.0</td>\n",
       "      <td>0.0</td>\n",
       "    </tr>\n",
       "    <tr>\n",
       "      <th>...</th>\n",
       "      <td>...</td>\n",
       "      <td>...</td>\n",
       "      <td>...</td>\n",
       "      <td>...</td>\n",
       "      <td>...</td>\n",
       "      <td>...</td>\n",
       "      <td>...</td>\n",
       "    </tr>\n",
       "    <tr>\n",
       "      <th>2023-05-26 00:00:00-03:00</th>\n",
       "      <td>26.809999</td>\n",
       "      <td>26.910000</td>\n",
       "      <td>26.530001</td>\n",
       "      <td>26.799999</td>\n",
       "      <td>39866600</td>\n",
       "      <td>0.0</td>\n",
       "      <td>0.0</td>\n",
       "    </tr>\n",
       "    <tr>\n",
       "      <th>2023-05-29 00:00:00-03:00</th>\n",
       "      <td>26.750000</td>\n",
       "      <td>26.820000</td>\n",
       "      <td>26.559999</td>\n",
       "      <td>26.690001</td>\n",
       "      <td>17977100</td>\n",
       "      <td>0.0</td>\n",
       "      <td>0.0</td>\n",
       "    </tr>\n",
       "    <tr>\n",
       "      <th>2023-05-30 00:00:00-03:00</th>\n",
       "      <td>26.719999</td>\n",
       "      <td>26.799999</td>\n",
       "      <td>26.260000</td>\n",
       "      <td>26.389999</td>\n",
       "      <td>45736700</td>\n",
       "      <td>0.0</td>\n",
       "      <td>0.0</td>\n",
       "    </tr>\n",
       "    <tr>\n",
       "      <th>2023-05-31 00:00:00-03:00</th>\n",
       "      <td>26.270000</td>\n",
       "      <td>26.360001</td>\n",
       "      <td>25.870001</td>\n",
       "      <td>26.120001</td>\n",
       "      <td>49207600</td>\n",
       "      <td>0.0</td>\n",
       "      <td>0.0</td>\n",
       "    </tr>\n",
       "    <tr>\n",
       "      <th>2023-06-01 00:00:00-03:00</th>\n",
       "      <td>26.299999</td>\n",
       "      <td>26.490000</td>\n",
       "      <td>26.160000</td>\n",
       "      <td>26.290001</td>\n",
       "      <td>4486400</td>\n",
       "      <td>0.0</td>\n",
       "      <td>0.0</td>\n",
       "    </tr>\n",
       "  </tbody>\n",
       "</table>\n",
       "<p>125 rows × 7 columns</p>\n",
       "</div>"
      ],
      "text/plain": [
       "                                Open       High        Low      Close  \\\n",
       "Date                                                                    \n",
       "2022-12-01 00:00:00-03:00  23.656716  23.843621  22.748895  22.775597   \n",
       "2022-12-02 00:00:00-03:00  22.864600  23.541015  22.526392  23.060404   \n",
       "2022-12-05 00:00:00-03:00  23.140504  23.656715  22.739995  22.802298   \n",
       "2022-12-06 00:00:00-03:00  22.980301  23.487612  22.624293  22.820097   \n",
       "2022-12-07 00:00:00-03:00  22.553092  23.202806  22.490791  22.561993   \n",
       "...                              ...        ...        ...        ...   \n",
       "2023-05-26 00:00:00-03:00  26.809999  26.910000  26.530001  26.799999   \n",
       "2023-05-29 00:00:00-03:00  26.750000  26.820000  26.559999  26.690001   \n",
       "2023-05-30 00:00:00-03:00  26.719999  26.799999  26.260000  26.389999   \n",
       "2023-05-31 00:00:00-03:00  26.270000  26.360001  25.870001  26.120001   \n",
       "2023-06-01 00:00:00-03:00  26.299999  26.490000  26.160000  26.290001   \n",
       "\n",
       "                             Volume  Dividends  Stock Splits  \n",
       "Date                                                          \n",
       "2022-12-01 00:00:00-03:00  71259400        0.0           0.0  \n",
       "2022-12-02 00:00:00-03:00  66301000        0.0           0.0  \n",
       "2022-12-05 00:00:00-03:00  56065400        0.0           0.0  \n",
       "2022-12-06 00:00:00-03:00  74991200        0.0           0.0  \n",
       "2022-12-07 00:00:00-03:00  57008400        0.0           0.0  \n",
       "...                             ...        ...           ...  \n",
       "2023-05-26 00:00:00-03:00  39866600        0.0           0.0  \n",
       "2023-05-29 00:00:00-03:00  17977100        0.0           0.0  \n",
       "2023-05-30 00:00:00-03:00  45736700        0.0           0.0  \n",
       "2023-05-31 00:00:00-03:00  49207600        0.0           0.0  \n",
       "2023-06-01 00:00:00-03:00   4486400        0.0           0.0  \n",
       "\n",
       "[125 rows x 7 columns]"
      ]
     },
     "execution_count": 4,
     "metadata": {},
     "output_type": "execute_result"
    }
   ],
   "source": [
    "tabela = dados.history(\"6mo\")\n",
    "\n",
    "# exibir tabela de dados da ação\n",
    "tabela"
   ]
  },
  {
   "cell_type": "code",
   "execution_count": 5,
   "metadata": {},
   "outputs": [
    {
     "data": {
      "text/plain": [
       "Date\n",
       "2022-12-01 00:00:00-03:00    22.775597\n",
       "2022-12-02 00:00:00-03:00    23.060404\n",
       "2022-12-05 00:00:00-03:00    22.802298\n",
       "2022-12-06 00:00:00-03:00    22.820097\n",
       "2022-12-07 00:00:00-03:00    22.561993\n",
       "                               ...    \n",
       "2023-05-26 00:00:00-03:00    26.799999\n",
       "2023-05-29 00:00:00-03:00    26.690001\n",
       "2023-05-30 00:00:00-03:00    26.389999\n",
       "2023-05-31 00:00:00-03:00    26.120001\n",
       "2023-06-01 00:00:00-03:00    26.290001\n",
       "Name: Close, Length: 125, dtype: float64"
      ]
     },
     "execution_count": 5,
     "metadata": {},
     "output_type": "execute_result"
    }
   ],
   "source": [
    "# extrair a coluna de fechamento da ação para futuras análises\n",
    "fechamento = tabela.Close\n",
    "fechamento"
   ]
  },
  {
   "cell_type": "code",
   "execution_count": 6,
   "metadata": {},
   "outputs": [],
   "source": [
    "# extrair cotações maxima, minima e atual\n",
    "maxima = fechamento.max()\n",
    "minima = fechamento.min()\n",
    "atual = fechamento[-1]"
   ]
  },
  {
   "attachments": {},
   "cell_type": "markdown",
   "metadata": {},
   "source": [
    "# Importando bibliotecas para realizar automação"
   ]
  },
  {
   "cell_type": "code",
   "execution_count": 7,
   "metadata": {},
   "outputs": [],
   "source": [
    "import pyautogui\n",
    "import pyperclip"
   ]
  },
  {
   "attachments": {},
   "cell_type": "markdown",
   "metadata": {},
   "source": [
    "### Dados relativos ao e-mail a ser enviado"
   ]
  },
  {
   "cell_type": "code",
   "execution_count": 8,
   "metadata": {},
   "outputs": [],
   "source": [
    "destinatario = \"pjonas21@gmail.com\"\n",
    "assunto = \"Análise de ação - diária\"\n",
    "\n",
    "mensagem = f\"\"\"\n",
    "Bom dia,\n",
    "\n",
    "Prezado gestor,\n",
    "\n",
    "Segue abaixo a análise da ação {ticker}, nos últimos 6 meses:\n",
    "\n",
    "    - Cotação máxima: R$ {round(maxima, 2)}\n",
    "    - Cotação mínima: R$ {round(minima, 2)}\n",
    "    - Cotação atual: R$ {round(atual, 2)}\n",
    "\n",
    "Atenciosamente,\n",
    "\n",
    "Paulo Jonas\n",
    "\"\"\""
   ]
  },
  {
   "cell_type": "code",
   "execution_count": 9,
   "metadata": {},
   "outputs": [
    {
     "name": "stdout",
     "output_type": "stream",
     "text": [
      "pjonas21@gmail.com\n",
      "Análise de ação - diária\n",
      "\n",
      "Bom dia,\n",
      "\n",
      "Prezado gestor,\n",
      "\n",
      "Segue abaixo a análise da ação petr4.sa, nos últimos 6 meses:\n",
      "\n",
      "    - Cotação máxima: R$ 26.8\n",
      "    - Cotação mínima: R$ 19.11\n",
      "    - Cotação atual: R$ 26.29\n",
      "\n",
      "Atenciosamente,\n",
      "\n",
      "Paulo Jonas\n",
      "\n"
     ]
    }
   ],
   "source": [
    "print(destinatario)\n",
    "print(assunto)\n",
    "print(mensagem)"
   ]
  },
  {
   "cell_type": "code",
   "execution_count": 28,
   "metadata": {},
   "outputs": [],
   "source": [
    "# pausa entre os comandos\n",
    "pyautogui.PAUSE = 3\n",
    "\n",
    "pyautogui.press(\"winleft\")\n",
    "pyautogui.write(\"chrome\")\n",
    "pyautogui.press(\"enter\")\n",
    "pyautogui.hotkey(\"alt\", \"space\", \"x\")\n",
    "\n",
    "# acessar o Gmail\n",
    "pyautogui.write(\"www.gmail.com\")\n",
    "pyautogui.press(\"enter\")\n",
    "\n",
    "# pegar posição do clique de escrever e-mail\n",
    "pyautogui.click(x=67, y=200)\n",
    "\n",
    "# inserir os dados de destinatário do e-mail\n",
    "pyperclip.copy(destinatario)\n",
    "pyautogui.hotkey(\"ctrl\", \"v\")\n",
    "pyautogui.hotkey(\"tab\")\n",
    "\n",
    "# inserir os dados de assunto do e-mail\n",
    "pyperclip.copy(assunto)\n",
    "pyautogui.hotkey(\"ctrl\", \"v\")\n",
    "pyautogui.hotkey(\"tab\")\n",
    "\n",
    "# inserir os dados de assunto do e-mail\n",
    "pyperclip.copy(mensagem)\n",
    "pyautogui.hotkey(\"ctrl\", \"v\")\n",
    "\n",
    "# pegar posição do botão enviar e-mail\n",
    "## pyautogui.position()\n",
    "pyautogui.click(x=832, y=681)\n",
    "\n"
   ]
  },
  {
   "cell_type": "code",
   "execution_count": null,
   "metadata": {},
   "outputs": [],
   "source": [
    "print(\"E-mail enviado com sucesso.\")"
   ]
  }
 ],
 "metadata": {
  "kernelspec": {
   "display_name": "venv",
   "language": "python",
   "name": "python3"
  },
  "language_info": {
   "codemirror_mode": {
    "name": "ipython",
    "version": 3
   },
   "file_extension": ".py",
   "mimetype": "text/x-python",
   "name": "python",
   "nbconvert_exporter": "python",
   "pygments_lexer": "ipython3",
   "version": "3.11.3"
  },
  "orig_nbformat": 4
 },
 "nbformat": 4,
 "nbformat_minor": 2
}
